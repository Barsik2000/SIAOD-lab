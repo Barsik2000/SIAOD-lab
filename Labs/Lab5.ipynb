{
 "cells": [
  {
   "cell_type": "markdown",
   "metadata": {
    "id": "WPvB9TcMmKA6"
   },
   "source": [
    "# Лабораторная работа №5\n",
    "# Рекурсия. Фракталы."
   ]
  },
  {
   "cell_type": "markdown",
   "metadata": {
    "id": "96Gi_LEvmSVH"
   },
   "source": [
    "Выполнил студент группы БВТ2001 Орлов С.А.\n",
    "***"
   ]
  },
  {
   "cell_type": "markdown",
   "metadata": {
    "id": "4clYOyb0mbEv"
   },
   "source": [
    "### Задание:\n",
    "Реализовать генерацию заданного типа фрактала с применением рекурсивных функций.\n",
    "\n",
    "\n",
    "Добавить возможность задания глубины фрактала. \n",
    "\n",
    "\n",
    "Оценить глубину рекурсии. \n",
    "\n",
    "\n",
    "Построить таблицу зависимости времени построения от глубины фрактала."
   ]
  },
  {
   "cell_type": "markdown",
   "metadata": {
    "id": "wDXHbUmMmhRL"
   },
   "source": [
    "### Список фракталов:\n",
    "\n",
    "Кривая Коха\n",
    "| Кривая Гильберта\n",
    "| Кривая Серпинского\n",
    "| Салфетка Серпинского\n",
    "| Ковер Серпинского\n",
    "| Дерево Пифагора "
   ]
  },
  {
   "cell_type": "markdown",
   "metadata": {
    "id": "Wggfn8l7nG72"
   },
   "source": [
    "### Выполнение:"
   ]
  },
  {
   "cell_type": "markdown",
   "metadata": {},
   "source": [
    "### Кривая Коха"
   ]
  },
  {
   "cell_type": "code",
   "execution_count": 4,
   "metadata": {},
   "outputs": [],
   "source": [
    "def koch_curve(size, n):\n",
    "    if n == 0:\n",
    "        turtle.forward(size)\n",
    "    else:\n",
    "        koch_curve(size / 3, n - 1)\n",
    "        left(60)\n",
    "        koch_curve(size / 3, n - 1)\n",
    "        right(120)\n",
    "        koch_curve(size / 3, n - 1)\n",
    "        left(60)\n",
    "        koch_curve(size / 3, n - 1)\n",
    "\n",
    "\n",
    "def draw_koch_snowflake(size, n):\n",
    "    for i in range(3):\n",
    "        koch_curve(size, n)\n",
    "        right(120)\n"
   ]
  },
  {
   "cell_type": "markdown",
   "metadata": {},
   "source": [
    "### Кривая Гильберта"
   ]
  },
  {
   "cell_type": "code",
   "execution_count": 2,
   "metadata": {},
   "outputs": [],
   "source": [
    "def hilbert(level, angle, step):\n",
    "    # Input Parameters are numeric\n",
    "    # Return Value: None\n",
    "    if level == 0:\n",
    "        return\n",
    "\n",
    "    right(angle)\n",
    "    hilbert(level - 1, -angle, step)\n",
    "\n",
    "    forward(step)\n",
    "    left(angle)\n",
    "    hilbert(level - 1, angle, step)\n",
    "\n",
    "    forward(step)\n",
    "    hilbert(level - 1, angle, step)\n",
    "\n",
    "    left(angle)\n",
    "    forward(step)\n",
    "    hilbert(level - 1, -angle, step)\n",
    "    right(angle)\n",
    "\n",
    "\n",
    "def draw_hilbert(s,level,a):\n",
    "\n",
    "    penup()\n",
    "    goto(-s / 2.0, s / 2.0)\n",
    "    pendown()\n",
    "\n",
    "    # For positioning turtle\n",
    "    hilbert(level, a, s / (2 ** level - 1))"
   ]
  },
  {
   "cell_type": "markdown",
   "metadata": {},
   "source": [
    "### Кривая Серпинского"
   ]
  },
  {
   "cell_type": "code",
   "execution_count": null,
   "metadata": {},
   "outputs": [],
   "source": [
    "import math\n",
    "t.penup()\n",
    "t.bk(500)\n",
    "t.pendown()\n",
    "\n",
    "\n",
    "size = 2\n",
    "n = 3\n",
    "t.speed(1000)\n",
    "\n",
    "def serp(size, n):\n",
    "    if n == 0:\n",
    "        return\n",
    "    serp(size, n-1)\n",
    "    t.left(45)\n",
    "    t.fd(size*(math.sqrt(2)))\n",
    "    t.left(45)\n",
    "    serp(size, n-1)\n",
    "    t.right(90)\n",
    "    t.fd(size)\n",
    "    t.right(90)\n",
    "    serp(size, n-1)\n",
    "    t.left(45)\n",
    "    t.fd(size*(math.sqrt(2)))\n",
    "    t.left(45)\n",
    "    serp(size, n-1)\n",
    "    \n",
    "def serp_full(size, n):\n",
    "    serp(size, n)\n",
    "    t.right(90)\n",
    "    t.fd(size)\n",
    "    t.right(90)\n",
    "    serp(size, n)\n",
    "    t.right(90)\n",
    "    t.fd(size)\n",
    "    t.right(90)\n",
    "    "
   ]
  },
  {
   "cell_type": "markdown",
   "metadata": {},
   "source": [
    "### Салфетка Серпинского"
   ]
  },
  {
   "cell_type": "code",
   "execution_count": null,
   "metadata": {},
   "outputs": [],
   "source": [
    "def draw_striangle(length,depth):\n",
    "    if depth==0:\n",
    "        for i in range(0,3):\n",
    "            fd(length)\n",
    "            left(120)\n",
    "    else:\n",
    "        draw_striangle(length/2,depth-1)\n",
    "        fd(length/2)\n",
    "        draw_striangle(length/2,depth-1)\n",
    "        bk(length/2)\n",
    "        left(60)\n",
    "        fd(length/2)\n",
    "        right(60)\n",
    "        draw_striangle(length/2,depth-1)\n",
    "        left(60)\n",
    "        bk(length/2)\n",
    "        right(60)"
   ]
  },
  {
   "cell_type": "markdown",
   "metadata": {},
   "source": [
    "### Ковер Серпинского"
   ]
  },
  {
   "cell_type": "code",
   "execution_count": null,
   "metadata": {},
   "outputs": [],
   "source": [
    "def draw_kov(n, m):\n",
    "    if n == 0:\n",
    "        color('black')\n",
    "        begin_fill()\n",
    "        for _ in range(4):\n",
    "            forward(m)\n",
    "            left(90)\n",
    "        end_fill()\n",
    "\n",
    "    else:\n",
    "        for _ in range(4):\n",
    "            draw_kov(n - 1, m / 3)\n",
    "            forward(m / 3)\n",
    "\n",
    "            draw_kov(n - 1, m / 3)\n",
    "            forward(m / 3)\n",
    "\n",
    "            forward(m / 3)\n",
    "            left(90)"
   ]
  },
  {
   "cell_type": "markdown",
   "metadata": {},
   "source": [
    "### Дерево Пифагора"
   ]
  },
  {
   "cell_type": "code",
   "execution_count": null,
   "metadata": {
    "id": "681a95mZnOSa"
   },
   "outputs": [],
   "source": [
    "def pythagoras_pants(size, n):\n",
    "    if n <= 0:\n",
    "        fd(size)\n",
    "    else:\n",
    "        right(135)\n",
    "        fd((size * size / 2) ** (0.5))\n",
    "        left(90)\n",
    "        pythagoras_pants(((size * size / 2) ** (0.5)), n - 1)\n",
    "        left(90)\n",
    "        fd((size * size / 2) ** (0.5))\n",
    "        left(90)\n",
    "        fd((size * size / 2) ** (0.5))\n",
    "        right(135)\n",
    "        fd(size)\n",
    "        right(135)\n",
    "        fd((size * size / 2) ** (0.5))\n",
    "        left(90)\n",
    "        fd((size * size / 2) ** (0.5))\n",
    "        left(90)\n",
    "        pythagoras_pants(((size * size / 2) ** (0.5)), n - 1)\n",
    "        left(90)\n",
    "        fd((size * size / 2) ** (0.5))\n",
    "        right(135)\n",
    "\n",
    "\n",
    "def draw_pythagoras_tree(size, n):\n",
    "    fd(size)\n",
    "    left(90)\n",
    "    fd(size)\n",
    "    left(90)\n",
    "    pythagoras_pants(size, n)\n",
    "    left(90)\n",
    "    fd(size)\n",
    "\n"
   ]
  },
  {
   "cell_type": "markdown",
   "metadata": {
    "id": "diOb-K7LnO5a"
   },
   "source": [
    "### Вывод"
   ]
  },
  {
   "cell_type": "code",
   "execution_count": 5,
   "metadata": {},
   "outputs": [
    {
     "ename": "NameError",
     "evalue": "name 'time' is not defined",
     "output_type": "error",
     "traceback": [
      "\u001b[1;31m---------------------------------------------------------------------------\u001b[0m",
      "\u001b[1;31mNameError\u001b[0m                                 Traceback (most recent call last)",
      "\u001b[1;32m~\\AppData\\Local\\Temp/ipykernel_3316/2052748771.py\u001b[0m in \u001b[0;36m<module>\u001b[1;34m\u001b[0m\n\u001b[1;32m----> 1\u001b[1;33m \u001b[0mtic\u001b[0m \u001b[1;33m=\u001b[0m \u001b[0mtime\u001b[0m\u001b[1;33m.\u001b[0m\u001b[0mtime\u001b[0m\u001b[1;33m(\u001b[0m\u001b[1;33m)\u001b[0m\u001b[1;33m\u001b[0m\u001b[1;33m\u001b[0m\u001b[0m\n\u001b[0m\u001b[0;32m      2\u001b[0m \u001b[0mspeed\u001b[0m\u001b[1;33m(\u001b[0m\u001b[1;36m30\u001b[0m\u001b[1;33m)\u001b[0m\u001b[1;33m\u001b[0m\u001b[1;33m\u001b[0m\u001b[0m\n\u001b[0;32m      3\u001b[0m \u001b[0mdraw_koch_snowflake\u001b[0m\u001b[1;33m(\u001b[0m\u001b[0msize\u001b[0m\u001b[1;33m,\u001b[0m \u001b[0mn\u001b[0m\u001b[1;33m)\u001b[0m\u001b[1;33m\u001b[0m\u001b[1;33m\u001b[0m\u001b[0m\n\u001b[0;32m      4\u001b[0m \u001b[1;31m#draw_hilbert(size,n,angle)\u001b[0m\u001b[1;33m\u001b[0m\u001b[1;33m\u001b[0m\u001b[0m\n\u001b[0;32m      5\u001b[0m \u001b[1;31m#draw_Sier(size,n,angle)\u001b[0m\u001b[1;33m\u001b[0m\u001b[1;33m\u001b[0m\u001b[0m\n",
      "\u001b[1;31mNameError\u001b[0m: name 'time' is not defined"
     ]
    }
   ],
   "source": [
    "tic = time.time()\n",
    "speed(1000)\n",
    "size = 50\n",
    "n = 3\n",
    "# next 3 for serp\n",
    "penup()\n",
    "bk(500)\n",
    "pendown()\n",
    "#draw_koch_snowflake(size, n)\n",
    "#draw_hilbert(size,n,angle)\n",
    "#draw_striangle(size,n)\n",
    "#draw_kov(n,size)\n",
    "#draw_serp_full(size,n)\n",
    "#draw_serp(size,n)\n",
    "#draw_pythagoras_tree(size, n)\n",
    "\n",
    "tac = time.time()\n",
    "\n",
    "print(\"Построение заняло %s \" % (tac - tic))\n",
    "done()"
   ]
  },
  {
   "cell_type": "code",
   "execution_count": 7,
   "metadata": {},
   "outputs": [
    {
     "data": {
      "text/html": [
       "<div>\n",
       "<style scoped>\n",
       "    .dataframe tbody tr th:only-of-type {\n",
       "        vertical-align: middle;\n",
       "    }\n",
       "\n",
       "    .dataframe tbody tr th {\n",
       "        vertical-align: top;\n",
       "    }\n",
       "\n",
       "    .dataframe thead th {\n",
       "        text-align: right;\n",
       "    }\n",
       "</style>\n",
       "<table border=\"1\" class=\"dataframe\">\n",
       "  <thead>\n",
       "    <tr style=\"text-align: right;\">\n",
       "      <th></th>\n",
       "      <th>Фрактал</th>\n",
       "      <th>Глубина = 1</th>\n",
       "    </tr>\n",
       "  </thead>\n",
       "  <tbody>\n",
       "    <tr>\n",
       "      <th>0</th>\n",
       "      <td>Кривая Коха</td>\n",
       "      <td>0.3661022186279297</td>\n",
       "    </tr>\n",
       "    <tr>\n",
       "      <th>1</th>\n",
       "      <td>Кривая Гильберта</td>\n",
       "      <td>1.7866737842559814</td>\n",
       "    </tr>\n",
       "    <tr>\n",
       "      <th>2</th>\n",
       "      <td>Кривая Серпинского</td>\n",
       "      <td>4.542506694793701</td>\n",
       "    </tr>\n",
       "    <tr>\n",
       "      <th>3</th>\n",
       "      <td>Салфетка Серпинского</td>\n",
       "      <td>3.995025634765625</td>\n",
       "    </tr>\n",
       "    <tr>\n",
       "      <th>4</th>\n",
       "      <td>Ковер Серпинского</td>\n",
       "      <td>10.836891889572144</td>\n",
       "    </tr>\n",
       "    <tr>\n",
       "      <th>5</th>\n",
       "      <td>Дерево Пифагора</td>\n",
       "      <td>4.117222309112549</td>\n",
       "    </tr>\n",
       "  </tbody>\n",
       "</table>\n",
       "</div>"
      ],
      "text/plain": [
       "                Фрактал           Глубина = 1\n",
       "0           Кривая Коха   0.3661022186279297 \n",
       "1      Кривая Гильберта   1.7866737842559814 \n",
       "2    Кривая Серпинского    4.542506694793701 \n",
       "3  Салфетка Серпинского     3.995025634765625\n",
       "4     Ковер Серпинского    10.836891889572144\n",
       "5       Дерево Пифагора    4.117222309112549 "
      ]
     },
     "execution_count": 7,
     "metadata": {},
     "output_type": "execute_result"
    }
   ],
   "source": [
    "import pandas as pd\n",
    "table = [[\"Кривая Коха\", \" 0.3661022186279297 \"],\n",
    "        [\"Кривая Гильберта\", \" 1.7866737842559814 \"],\n",
    "        [\"Кривая Серпинского\", \"4.542506694793701 \"],\n",
    "        [\"Салфетка Серпинского\", \"3.995025634765625\"],\n",
    "        [\"Ковер Серпинского\", \"10.836891889572144\"],\n",
    "        [\"Дерево Пифагора\", \" 4.117222309112549 \"]]\n",
    "\n",
    "pd.DataFrame(table, columns=[\"Фрактал\",\"Глубина = 1\"])"
   ]
  },
  {
   "cell_type": "code",
   "execution_count": null,
   "metadata": {},
   "outputs": [],
   "source": []
  }
 ],
 "metadata": {
  "colab": {
   "collapsed_sections": [],
   "name": "Lab5.ipynb",
   "provenance": []
  },
  "kernelspec": {
   "display_name": "Python 3 (ipykernel)",
   "language": "python",
   "name": "python3"
  },
  "language_info": {
   "codemirror_mode": {
    "name": "ipython",
    "version": 3
   },
   "file_extension": ".py",
   "mimetype": "text/x-python",
   "name": "python",
   "nbconvert_exporter": "python",
   "pygments_lexer": "ipython3",
   "version": "3.9.7"
  }
 },
 "nbformat": 4,
 "nbformat_minor": 1
}
