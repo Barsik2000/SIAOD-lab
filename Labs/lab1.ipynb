{
 "cells": [
  {
   "cell_type": "code",
   "execution_count": 4,
   "id": "fb8573b6",
   "metadata": {},
   "outputs": [],
   "source": [
    "# Лабораторная работа №1\n",
    "## Выполнил студент группы БВТ2001 Орлов Сергей Александрович\n",
    "### Задание №1\n",
    "# Описание условия задания"
   ]
  },
  {
   "cell_type": "code",
   "execution_count": 13,
   "id": "9d5069ba",
   "metadata": {},
   "outputs": [
    {
     "name": "stdout",
     "output_type": "stream",
     "text": [
      "Hello world!\n"
     ]
    }
   ],
   "source": [
    "print(\"Hello world!\")"
   ]
  },
  {
   "cell_type": "code",
   "execution_count": 57,
   "id": "c2e20aeb",
   "metadata": {},
   "outputs": [
    {
     "name": "stdout",
     "output_type": "stream",
     "text": [
      "m = 2\n",
      "n = 3\n",
      "min_limit = 0\n",
      "max_limit = 10\n",
      "Matrix:\n",
      "[8, 5, 1]\n",
      "[6, 0, 0]\n"
     ]
    }
   ],
   "source": [
    "### Задание №2\n",
    "# Написать генератор случайных матриц(многомерных), который принимает\n",
    "# опциональные параметры m, n, min_limit, max_limit, где m и n указывают размер\n",
    "# матрицы, а min_lim и max_lim - минимальное и максимальное значение для\n",
    "# генерируемого числа . По умолчанию при отсутствии параметров принимать следующие\n",
    "# значения:\n",
    "from random import randint\n",
    "import math\n",
    "import time\n",
    "\n",
    "m = int(input(\"m = \") or 50) #rows\n",
    "n = int(input(\"n = \") or 50) #cols\n",
    "min_limit = int(input(\"min_limit = \") or -250)\n",
    "max_limit = int(input(\"max_limit = \") or 1000 + 13)\n",
    "\n",
    "import numpy as np\n",
    "\n",
    "Matrix = [[randint(min_limit, max_limit) for j in range(n)] for i in range(m)]\n",
    "print('Matrix:')\n",
    "for i in range(m):\n",
    "    print(Matrix[i])"
   ]
  },
  {
   "cell_type": "code",
   "execution_count": 58,
   "id": "1f38faef",
   "metadata": {},
   "outputs": [],
   "source": [
    "### Задание №3\n",
    "# Реализовать методы сортировки строк числовой матрицы в соответствии с\n",
    "# заданием. Оценить время работы каждого алгоритма сортировки и сравнить его со\n",
    "# временем стандартной функции сортировки. Испытания проводить на сгенерированных\n",
    "# матрицах.\n",
    "# Методы:"
   ]
  },
  {
   "cell_type": "code",
   "execution_count": 70,
   "id": "65b4788e",
   "metadata": {},
   "outputs": [
    {
     "name": "stdout",
     "output_type": "stream",
     "text": [
      "[8, 5, 1, 6, 0, 0]\n",
      "Встроенная сортировка заняла 0.0000333000 секунд\n",
      "\n",
      "[0, 0, 1]\n",
      "[5, 6, 8]\n"
     ]
    }
   ],
   "source": [
    "#Встроенная\n",
    "Matrix_flat = [item for sublist in Matrix for item in sublist]\n",
    "print(Matrix_flat)\n",
    "Number = len(Matrix_flat)\n",
    "\n",
    "tick = time.perf_counter()\n",
    "Array_sorted = sorted(Matrix_flat)\n",
    "tack = time.perf_counter()\n",
    "\n",
    "builtin_sort_time = tack - tick\n",
    "\n",
    "Matrix_final = []\n",
    "for i in range(m):\n",
    "    Matrix_final.append([])\n",
    "    for j in range(n):\n",
    "        Matrix_final[i].append(Array_sorted[i*n+j])\n",
    "    \n",
    "print()\n",
    "for i in Matrix_final:\n",
    "    print(i)"
   ]
  },
  {
   "cell_type": "code",
   "execution_count": 71,
   "id": "8e6e4ca5",
   "metadata": {},
   "outputs": [
    {
     "name": "stdout",
     "output_type": "stream",
     "text": [
      "[8, 5, 1, 6, 0, 0]\n",
      "Сортировка выбором заняла 0.0000349000 секунд\n",
      "\n",
      "Сортировка выбором медленнее, чем встроенная\n",
      "\n",
      "[0, 0, 1]\n",
      "[5, 6, 8]\n"
     ]
    }
   ],
   "source": [
    "# Выбором\n",
    "def select_sort(arr):\n",
    "    i = 0\n",
    "    Number = len(arr)\n",
    "    while i<Number-1:\n",
    "        mini = i\n",
    "        j = i+1\n",
    "        while j < Number:\n",
    "            if arr[j]<arr[mini]:\n",
    "                mini = j\n",
    "             \n",
    "            j+=1\n",
    "        \n",
    "        arr[i],arr[mini] = arr[mini],arr[i]\n",
    "    \n",
    "        i+=1\n",
    "    return arr\n",
    "\n",
    "Matrix_flat = [item for sublist in Matrix for item in sublist]\n",
    "print(Matrix_flat)\n",
    "Number = len(Matrix_flat)\n",
    "\n",
    "tick = time.perf_counter()\n",
    "Array_sorted = select_sort(Matrix_flat)\n",
    "tack = time.perf_counter()\n",
    "\n",
    "Sel = tack - tick\n",
    "\n",
    "\n",
    "Matrix_final = []\n",
    "for i in range(m):\n",
    "    Matrix_final.append([])\n",
    "    for j in range(n):\n",
    "        Matrix_final[i].append(Array_sorted[i*n+j])\n",
    "    \n",
    "print()\n",
    "for i in Matrix_final:\n",
    "    print(i)\n"
   ]
  },
  {
   "cell_type": "code",
   "execution_count": 72,
   "id": "5341c03a",
   "metadata": {},
   "outputs": [
    {
     "name": "stdout",
     "output_type": "stream",
     "text": [
      "[8, 5, 1, 6, 0, 0]\n",
      "Сортировка вставкой заняла 0.0000422000 секунд\n",
      "\n",
      "Сортировка вставкой медленнее, чем встроенная\n",
      "\n",
      "[0, 0, 1]\n",
      "[5, 6, 8]\n"
     ]
    }
   ],
   "source": [
    "# Вставкой\n",
    "def insert_sort(arr):\n",
    "    for i in range(0, len(arr)):\n",
    "        cursor = arr[i]\n",
    "        pos = i\n",
    "        while pos > 0 and arr[pos - 1] > cursor:\n",
    "            arr[pos] = arr[pos - 1]\n",
    "            pos = pos - 1\n",
    "            arr[pos] = cursor\n",
    "    return arr\n",
    "\n",
    "Matrix_flat = [item for sublist in Matrix for item in sublist]\n",
    "print(Matrix_flat)\n",
    "Number = len(Matrix_flat)\n",
    "\n",
    "tick = time.perf_counter()\n",
    "Array_sorted = insert_sort(Matrix_flat)\n",
    "tack = time.perf_counter()\n",
    "\n",
    "Vstav = tack - tick\n",
    "\n",
    "\n",
    "Matrix_final = []\n",
    "for i in range(m):\n",
    "    Matrix_final.append([])\n",
    "    for j in range(n):\n",
    "        Matrix_final[i].append(Array_sorted[i*n+j])\n",
    "    \n",
    "print()\n",
    "for i in Matrix_final:\n",
    "    print(i)\n"
   ]
  },
  {
   "cell_type": "code",
   "execution_count": 73,
   "id": "20eedf02",
   "metadata": {},
   "outputs": [
    {
     "name": "stdout",
     "output_type": "stream",
     "text": [
      "[8, 5, 1, 6, 0, 0]\n",
      "Сортировка обменом заняла 0.0000382000 секунд\n",
      "\n",
      "Сортировка обменом медленнее, чем встроенная\n",
      "\n",
      "[0, 0, 1]\n",
      "[5, 6, 8]\n"
     ]
    }
   ],
   "source": [
    "# Обменом\n",
    "def exc_sort(nums):\n",
    "    swapped = True\n",
    "    while swapped:\n",
    "        swapped = False\n",
    "        for i in range(len(nums) - 1):\n",
    "            if nums[i] > nums[i + 1]:\n",
    "                nums[i], nums[i + 1] = nums[i + 1], nums[i]\n",
    "                swapped = True\n",
    "    return nums\n",
    "\n",
    "Matrix_flat = [item for sublist in Matrix for item in sublist]\n",
    "print(Matrix_flat)\n",
    "Number = len(Matrix_flat)\n",
    "\n",
    "tick = time.perf_counter()\n",
    "Array_sorted = exc_sort(Matrix_flat)\n",
    "tack = time.perf_counter()\n",
    "\n",
    "Obm = tack - tick\n",
    "\n",
    "\n",
    "Matrix_final = []\n",
    "for i in range(m):\n",
    "    Matrix_final.append([])\n",
    "    for j in range(n):\n",
    "        Matrix_final[i].append(Array_sorted[i*n+j])\n",
    "    \n",
    "print()\n",
    "for i in Matrix_final:\n",
    "    print(i)\n"
   ]
  },
  {
   "cell_type": "code",
   "execution_count": 74,
   "id": "e84103fc",
   "metadata": {},
   "outputs": [
    {
     "name": "stdout",
     "output_type": "stream",
     "text": [
      "[8, 5, 1, 6, 0, 0]\n",
      "Сортировка Шелла заняла 0.0000435000 секунд\n",
      "\n",
      "Сортировка Шелла медленнее, чем встроенная\n",
      "\n",
      "[0, 0, 1]\n",
      "[5, 6, 8]\n"
     ]
    }
   ],
   "source": [
    "# Шелла\n",
    "\n",
    "def shell_sort(arr):\n",
    "    length = len(arr)\n",
    "    gap = length//2\n",
    "    while gap > 0:\n",
    "        for i in range(gap, length):\n",
    "            curr_val = arr[i]\n",
    "            pos = i\n",
    "            while pos >= gap and arr[pos-gap] > curr_val:\n",
    "                arr[pos] = arr[pos-gap]\n",
    "                pos -= gap\n",
    "                arr[pos] = curr_val\n",
    "        gap//=2\n",
    "    return arr\n",
    "\n",
    "Matrix_flat = [item for sublist in Matrix for item in sublist]\n",
    "print(Matrix_flat)\n",
    "Number = len(Matrix_flat)\n",
    "\n",
    "tick = time.perf_counter()\n",
    "Array_sorted = shell_sort(Matrix_flat)\n",
    "tack = time.perf_counter()\n",
    "\n",
    "Shell = tack - tick\n",
    "\n",
    "\n",
    "\n",
    "Matrix_final = []\n",
    "for i in range(m):\n",
    "    Matrix_final.append([])\n",
    "    for j in range(n):\n",
    "        Matrix_final[i].append(Array_sorted[i*n+j])\n",
    "    \n",
    "print()\n",
    "for i in Matrix_final:\n",
    "    print(i)"
   ]
  },
  {
   "cell_type": "code",
   "execution_count": 89,
   "id": "b8d4be37",
   "metadata": {},
   "outputs": [
    {
     "name": "stdout",
     "output_type": "stream",
     "text": [
      "[8, 5, 1, 6, 0, 0]\n",
      "\n",
      "[0, 0, 1]\n",
      "[5, 6, 8]\n"
     ]
    }
   ],
   "source": [
    "# Турнирная\n",
    "def tour_sort(arr):\n",
    "    temp = [None]*2*(len(arr)+len(arr)%2)\n",
    "    j = len(temp) - len(arr) - len(arr)%2\n",
    "    \n",
    "    for ind, element in enumerate(arr):\n",
    "        temp[j+ind] = (ind, element)\n",
    "    \n",
    "    for i in range(len(arr)):\n",
    "        n = len(arr)\n",
    "        j = len(temp) - len(arr) - len(arr)%2\n",
    "        while j > -1:\n",
    "            n = (n+1)//2\n",
    "            for ind in range(n):\n",
    "                ind = max(j+ind*2,1)\n",
    "                if temp[ind] is not None and temp[ind+1] is not None:\n",
    "                    temp[ind//2] = temp[ind + (temp[ind][1]>= temp[ind+1][1])]\n",
    "                else: \n",
    "                    temp[ind//2] = temp[ind] if temp[ind] is not None else temp[ind+1]\n",
    "            j -= n\n",
    "          \n",
    "        j, x = temp[0]\n",
    "        arr[i] = x\n",
    "        temp[len(temp) - len(arr) - len(arr)%2 + j] = None\n",
    "    return arr \n",
    "\n",
    "\n",
    "\n",
    "\n",
    "\n",
    "Matrix_flat = [item for sublist in Matrix for item in sublist]\n",
    "print(Matrix_flat)\n",
    "Number = len(Matrix_flat)\n",
    "\n",
    "tick = time.perf_counter()\n",
    "Array_sorted = tour_sort(Matrix_flat)\n",
    "tack = time.perf_counter()\n",
    "\n",
    "Tour = tack - tick\n",
    "\n",
    "Matrix_final = []\n",
    "\n",
    "for i in range(m):\n",
    "    Matrix_final.append([])\n",
    "    for j in range(n):\n",
    "        Matrix_final[i].append(Array_sorted[i*n+j])\n",
    "    \n",
    "print()\n",
    "for i in Matrix_final:\n",
    "    print(i)"
   ]
  },
  {
   "cell_type": "code",
   "execution_count": 76,
   "id": "e3e7b2a9",
   "metadata": {},
   "outputs": [
    {
     "name": "stdout",
     "output_type": "stream",
     "text": [
      "[8, 5, 1, 6, 0, 0]\n",
      "Быстрая сортировка заняла 0.0001433000 секунд\n",
      "\n",
      "Быстрая сортировка медленнее, чем встроенная\n",
      "\n",
      "[0, 0, 1]\n",
      "[5, 6, 8]\n"
     ]
    }
   ],
   "source": [
    "# Быстрая сортировка\n",
    "\n",
    "def quick_sort(arr):\n",
    "    if len(arr) <= 1:\n",
    "        return arr\n",
    "    else:\n",
    "        q = np.random.choice(arr)\n",
    "        s_nums = []\n",
    "        m_nums = []\n",
    "        e_nums = []\n",
    "        for n in arr:\n",
    "            if n < q:\n",
    "                s_nums.append(n)\n",
    "            elif n > q:\n",
    "                m_nums.append(n)\n",
    "            else:\n",
    "                e_nums.append(n)\n",
    "    return quick_sort(s_nums) + e_nums + quick_sort(m_nums)\n",
    "    \n",
    "Matrix_flat = [item for sublist in Matrix for item in sublist]\n",
    "print(Matrix_flat)\n",
    "Number = len(Matrix_flat)\n",
    "\n",
    "tick = time.perf_counter()\n",
    "Array_sorted = quick_sort(Matrix_flat)\n",
    "tack = time.perf_counter()\n",
    "\n",
    "Fast = tack - tick\n",
    "\n",
    "Matrix_final = []\n",
    "for i in range(m):\n",
    "    Matrix_final.append([])\n",
    "    for j in range(n):\n",
    "        Matrix_final[i].append(Array_sorted[i*n+j])\n",
    "    \n",
    "print()\n",
    "for i in Matrix_final:\n",
    "    print(i)\n",
    "    "
   ]
  },
  {
   "cell_type": "code",
   "execution_count": 77,
   "id": "0331fe37",
   "metadata": {},
   "outputs": [
    {
     "name": "stdout",
     "output_type": "stream",
     "text": [
      "[8, 5, 1, 6, 0, 0]\n",
      "Пирамидальная сортировка заняла 0.0000734000 секунд\n",
      "\n",
      "Пирамидальная сортировка медленнее, чем встроенная\n",
      "\n",
      "[0, 0, 1]\n",
      "[5, 6, 8]\n"
     ]
    }
   ],
   "source": [
    "# Пирамидальная\n",
    "\n",
    "def heapify(arr, heap_size, root_index):  \n",
    "\n",
    "    largest = root_index\n",
    "    left_child = (2 * root_index) + 1\n",
    "    right_child = (2 * root_index) + 2\n",
    "\n",
    "    if left_child < heap_size and arr[left_child] > arr[largest]:\n",
    "        largest = left_child\n",
    "\n",
    "    if right_child < heap_size and arr[right_child] > arr[largest]:\n",
    "        largest = right_child\n",
    "\n",
    "    if largest != root_index:\n",
    "        arr[root_index], arr[largest] = arr[largest], arr[root_index]\n",
    "        heapify(arr, heap_size, largest)\n",
    "\n",
    "def pyr_sort(arr):  \n",
    "    n = len(arr)\n",
    "\n",
    "\n",
    "    for i in range(n, -1, -1):\n",
    "        heapify(arr, n, i)\n",
    "\n",
    "\n",
    "    for i in range(n - 1, 0, -1):\n",
    "        arr[i], arr[0] = arr[0], arr[i]\n",
    "        heapify(arr, i, 0)\n",
    " \n",
    "    return arr\n",
    "\n",
    "Matrix_flat = [item for sublist in Matrix for item in sublist]\n",
    "print(Matrix_flat)\n",
    "Number = len(Matrix_flat)\n",
    "\n",
    "tick = time.perf_counter()\n",
    "Array_sorted = pyr_sort(Matrix_flat)\n",
    "tack = time.perf_counter()\n",
    "\n",
    "Pyr = tack - tick\n",
    "\n",
    "Matrix_final = []\n",
    "for i in range(m):\n",
    "    Matrix_final.append([])\n",
    "    for j in range(n):\n",
    "        Matrix_final[i].append(Array_sorted[i*n+j])\n",
    "    \n",
    "print()\n",
    "for i in Matrix_final:\n",
    "    print(i)"
   ]
  },
  {
   "cell_type": "code",
   "execution_count": 90,
   "id": "500c0651",
   "metadata": {},
   "outputs": [
    {
     "name": "stdout",
     "output_type": "stream",
     "text": [
      "Встроенная сортировка заняла 0.0000333000 секунд\n",
      "\n",
      "Сортировка выбором заняла 0.0000349000 секунд\n",
      "\n",
      "Сортировка вставкой заняла 0.0000422000 секунд\n",
      "\n",
      "Сортировка обменом заняла 0.0000382000 секунд\n",
      "\n",
      "Сортировка Шелла заняла 0.0000435000 секунд\n",
      "\n",
      "Турнирная сортировка заняла 0.0000684000 секунд\n",
      "\n",
      "Быстрая сортировка заняла 0.0001433000 секунд\n",
      "\n",
      "Пирамидальная сортировка заняла 0.0000734000 секунд\n",
      "\n",
      "\n",
      "Встроенная сортировка является самой быстрой\n"
     ]
    }
   ],
   "source": [
    "#Вывод:\n",
    "#Время, потраченное на все сортировки:\n",
    "print(f\"Встроенная сортировка заняла {builtin_sort_time:0.10f} секунд\\n\")\n",
    "print(f\"Сортировка выбором заняла {Sel:0.10f} секунд\\n\")\n",
    "print(f\"Сортировка вставкой заняла {Vstav:0.10f} секунд\\n\")\n",
    "print(f\"Сортировка обменом заняла {Obm:0.10f} секунд\\n\")\n",
    "print(f\"Сортировка Шелла заняла {Shell:0.10f} секунд\\n\")\n",
    "print(f\"Турнирная сортировка заняла {Tour:0.10f} секунд\\n\")\n",
    "print(f\"Быстрая сортировка заняла {Fast:0.10f} секунд\\n\")\n",
    "print(f\"Пирамидальная сортировка заняла {Pyr:0.10f} секунд\\n\\n\")\n",
    "\n",
    "#Встроенная сортировка - самая быстрая\n",
    "print(f\"Встроенная сортировка является самой быстрой\")"
   ]
  },
  {
   "cell_type": "code",
   "execution_count": null,
   "id": "23edfd65",
   "metadata": {},
   "outputs": [],
   "source": []
  }
 ],
 "metadata": {
  "kernelspec": {
   "display_name": "Python 3 (ipykernel)",
   "language": "python",
   "name": "python3"
  },
  "language_info": {
   "codemirror_mode": {
    "name": "ipython",
    "version": 3
   },
   "file_extension": ".py",
   "mimetype": "text/x-python",
   "name": "python",
   "nbconvert_exporter": "python",
   "pygments_lexer": "ipython3",
   "version": "3.9.7"
  }
 },
 "nbformat": 4,
 "nbformat_minor": 5
}
