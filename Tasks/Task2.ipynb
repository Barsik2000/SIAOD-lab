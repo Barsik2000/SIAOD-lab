{
 "cells": [
  {
   "cell_type": "markdown",
   "id": "arctic-stocks",
   "metadata": {},
   "source": [
    "### Задание №1\n",
    "Массив A состоит из целых положительных чисел длин отрезков. Составьте из трех отрезков такой треугольник, чтобы его периметр был максимально возможным. Если невозможно составить треугольник с положительной площадью функция возвращает 0."
   ]
  },
  {
   "cell_type": "code",
   "execution_count": 9,
   "id": "caring-truck",
   "metadata": {
    "scrolled": false
   },
   "outputs": [
    {
     "name": "stdout",
     "output_type": "stream",
     "text": [
      "Enter the length of the array\n",
      "4\n",
      "\n",
      "Enter the numbers of the array\n",
      "2\n",
      "3\n",
      "1\n",
      "4\n",
      "\n",
      "Max perimeter:\n",
      "9\n"
     ]
    }
   ],
   "source": [
    "def max_per(arr):\n",
    "    new_arr = sorted(arr)\n",
    "    i = len(new_arr)-3\n",
    "    while i>=0:\n",
    "        if new_arr[i]+new_arr[i+1] > new_arr[i+2]:\n",
    "            return new_arr[i] + new_arr[i+1] + new_arr[i+2]\n",
    "        i-=1\n",
    "    return 0\n",
    "\n",
    "\n",
    "n = int(input(\"Enter the length of the array\\n\"))\n",
    "print()\n",
    "arr = []\n",
    "\n",
    "print(\"Enter the numbers of the array\")\n",
    "for i in range(n):\n",
    "    arr.append(int(input()))\n",
    "\n",
    "print()\n",
    "print(\"Max perimeter:\")\n",
    "print(max_per(arr))"
   ]
  },
  {
   "cell_type": "markdown",
   "id": "maritime-conversation",
   "metadata": {},
   "source": [
    "###### Задание №2\n",
    "Дан массив неотрицательных целых чисел nums. Расположите их в таком порядке, чтобы вместе они образовали максимально возможное число. Замечание: Результат может быть очень большим числом, поэтому представьте его как string, а не integer."
   ]
  },
  {
   "cell_type": "code",
   "execution_count": 21,
   "id": "alert-charm",
   "metadata": {
    "scrolled": false
   },
   "outputs": [
    {
     "name": "stdout",
     "output_type": "stream",
     "text": [
      "4\n",
      "9\n",
      "75\n",
      "642\n",
      "8\n",
      "9875642\n"
     ]
    }
   ],
   "source": [
    "n = int(input())\n",
    "nums = [str(input()) for i in range(n)]\n",
    "length = 0\n",
    "num_mas = []\n",
    "\n",
    "def minlen():\n",
    "    min_len = 100\n",
    "    for i in nums:\n",
    "        if len(i)<min_len:\n",
    "            min_len = len(i)\n",
    "    return min_len\n",
    "\n",
    "def digit_op(first_num):\n",
    "    digit_res = \"\"\n",
    "    for i in range(len(nums)):\n",
    "        if nums[i][0] == str(first_num):\n",
    "            num_mas.append(nums[i])\n",
    "    length = minlen()\n",
    "    \n",
    "    if(length == 0): return \"\"\n",
    "    \n",
    "    while(True):\n",
    "        choice = \"0\"*length\n",
    "        for i in num_mas:\n",
    "            if int(i[0:length]) == int(str(choice)[0:length]):\n",
    "                choice = min(int(i),int(choice))\n",
    "            if int(i[0:length]) > int(str(choice)[0:length]):\n",
    "                choice = str(i)\n",
    "        if (choice == \"0\"*length): break\n",
    "        digit_res += str(choice)\n",
    "        num_mas.pop(num_mas.index(str(choice)))\n",
    "        length = minlen()\n",
    "    return digit_res\n",
    "\n",
    "def max_digit():\n",
    "    res = \"\"\n",
    "    for i in range(9, 0, -1):\n",
    "        res += digit_op(i)\n",
    "    print(res)\n",
    "    \n",
    "max_digit()"
   ]
  },
  {
   "cell_type": "markdown",
   "id": "catholic-roots",
   "metadata": {},
   "source": [
    "### Задание №3\n",
    "Дана матрица mat размером m * n, значения целочисленные. Напишите функцию, сортирующую каждую диагональ матрицы по возрастанию и возвращающую получившуюся матрицу."
   ]
  },
  {
   "cell_type": "code",
   "execution_count": 20,
   "id": "cleared-anniversary",
   "metadata": {
    "scrolled": false
   },
   "outputs": [
    {
     "name": "stdout",
     "output_type": "stream",
     "text": [
      "[-97, -62, 32, -100]\n",
      "[32, 34, -100, -27]\n",
      "[22, -63, 1, -94]\n",
      "[14, -79, -98, 58]\n",
      "\n",
      " -97-100 -27-100\n",
      "\n",
      " -98   1 -94  32\n",
      "\n",
      " -79 -63  34 -62\n",
      "\n",
      "  14  22  32  58\n",
      "\n"
     ]
    }
   ],
   "source": [
    "from collections import defaultdict\n",
    "import heapq\n",
    "from random import randint\n",
    "\n",
    "def display_matr(arr):\n",
    "    for i in arr:\n",
    "        print(''.join('%4d'% j for j in i))\n",
    "        print()\n",
    " \n",
    "def diagon_sort(diag,m,n):\n",
    "    d = defaultdict(list)\n",
    "    for i in range(m):\n",
    "        for j in range(n):\n",
    "            heapq.heappush(d[i-j],diag[i][j])\n",
    "    return [[heapq.heappop(d[i-j]) for j in range(n)] for i in range(m)]\n",
    "\n",
    "m, n = 4, 4\n",
    "arr = [[randint(-100,100) for i in range(n)] for j in range(m)]\n",
    "\n",
    "for i in arr:\n",
    "    print(i)\n",
    "\n",
    "print()\n",
    "sorted_arr = diagon_sort(arr, m, n)\n",
    "\n",
    "display_matr(sorted_arr)"
   ]
  },
  {
   "cell_type": "code",
   "execution_count": null,
   "id": "7f9f2108",
   "metadata": {},
   "outputs": [],
   "source": []
  }
 ],
 "metadata": {
  "kernelspec": {
   "display_name": "Python 3 (ipykernel)",
   "language": "python",
   "name": "python3"
  },
  "language_info": {
   "codemirror_mode": {
    "name": "ipython",
    "version": 3
   },
   "file_extension": ".py",
   "mimetype": "text/x-python",
   "name": "python",
   "nbconvert_exporter": "python",
   "pygments_lexer": "ipython3",
   "version": "3.9.7"
  }
 },
 "nbformat": 4,
 "nbformat_minor": 5
}
